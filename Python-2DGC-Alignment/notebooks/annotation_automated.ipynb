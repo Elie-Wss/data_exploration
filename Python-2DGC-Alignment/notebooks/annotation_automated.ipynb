{
 "cells": [
  {
   "cell_type": "markdown",
   "metadata": {},
   "source": [
    "# Get annotation match against NIST from mass spectrum"
   ]
  },
  {
   "cell_type": "code",
   "execution_count": 1,
   "metadata": {},
   "outputs": [],
   "source": [
    "import os, sys\n",
    "path_to_scr_folder=os.path.join(os.path.dirname(os.path.abspath('')), 'src')\n",
    "sys.path.append(path_to_scr_folder)\n",
    "import plot\n",
    "from read_chroma import read_only_chroma, read_chromato_and_chromato_cube\n",
    "import pyms_nist_search\n",
    "import pyms\n",
    "import logging\n",
    "import numpy as np\n",
    "import requests\n",
    "from bs4 import BeautifulSoup\n",
    "import re\n",
    "import pandas as pd\n",
    "import projection\n",
    "import mass_spec\n",
    "\n",
    "def get_molecular_formulaNIST(compound_name):\n",
    "    # Prepare the search query URL\n",
    "    search_url = f'https://webbook.nist.gov/cgi/cbook.cgi?Name={compound_name}'\n",
    "\n",
    "    # Make an HTTP request to the PubChem website\n",
    "    response = requests.get(search_url)\n",
    "\n",
    "    # Check if the request was successful (status code 200)\n",
    "    # Parse the HTML content of the page\n",
    "    soup = BeautifulSoup(response.text, 'html.parser')\n",
    "    text = soup.get_text()\n",
    "    res = re.search(r'Formula: (.*?)\\nMolecular weight', text)\n",
    "    if res:\n",
    "        return res.group(1)\n",
    "    else:\n",
    "        return None"
   ]
  },
  {
   "cell_type": "markdown",
   "metadata": {},
   "source": [
    "## load file"
   ]
  },
  {
   "cell_type": "code",
   "execution_count": 11,
   "metadata": {},
   "outputs": [
    {
     "name": "stdout",
     "output_type": "stream",
     "text": [
      "chromato read 10.524566650390625 s\n",
      "--- 136.27232336997986 seconds --- to compute full spectra centroid\n",
      "full spectra computed 137.61160516738892 s\n"
     ]
    }
   ],
   "source": [
    "#need to open the file in files first otherwise fail to load\n",
    "sample_name = \"G0-1-041222.cdf\"\n",
    "chromato, time_rn, chromato_cube, sigma, mass_range=read_chromato_and_chromato_cube(f'/media/elie/Métabolomique/ELO_CDF/liquide-cdf-centroid/{sample_name}', mod_time=1.25, pre_process=False)"
   ]
  },
  {
   "cell_type": "code",
   "execution_count": 9,
   "metadata": {},
   "outputs": [
    {
     "data": {
      "text/plain": [
       "(39, 501)"
      ]
     },
     "execution_count": 9,
     "metadata": {},
     "output_type": "execute_result"
    }
   ],
   "source": [
    "mass_range"
   ]
  },
  {
   "cell_type": "code",
   "execution_count": 5,
   "metadata": {},
   "outputs": [
    {
     "data": {
      "text/plain": [
       "'/home/elie/Projects/Work/ahmed_repo/Python-2DGC-Alignment/notebooks'"
      ]
     },
     "execution_count": 5,
     "metadata": {},
     "output_type": "execute_result"
    }
   ],
   "source": [
    "import os\n",
    "os.getcwd()"
   ]
  },
  {
   "cell_type": "code",
   "execution_count": 13,
   "metadata": {},
   "outputs": [
    {
     "data": {
      "text/plain": [
       "(463, 2187, 150)"
      ]
     },
     "execution_count": 13,
     "metadata": {},
     "output_type": "execute_result"
    }
   ],
   "source": [
    "chromato_cube.shape"
   ]
  },
  {
   "cell_type": "code",
   "execution_count": 4,
   "metadata": {},
   "outputs": [
    {
     "name": "stdout",
     "output_type": "stream",
     "text": [
      "🧹 Removing existing stopped container: pyms-nist-server\n"
     ]
    }
   ],
   "source": [
    "import docker\n",
    "\n",
    "# Gracefully handle \"container already exists\" issue\n",
    "def ensure_pyms_nist_container_clean():\n",
    "    client = docker.from_env()\n",
    "    try:\n",
    "        container = client.containers.get(\"pyms-nist-server\")\n",
    "        if container.status == \"exited\":\n",
    "            print(\"🧹 Removing existing stopped container: pyms-nist-server\")\n",
    "            container.remove()\n",
    "        else:\n",
    "            print(\"✅ pyms-nist-server is already running.\")\n",
    "    except docker.errors.NotFound:\n",
    "        pass  # Container doesn't exist — no problem\n",
    "\n",
    "# Call this before starting the Engine\n",
    "ensure_pyms_nist_container_clean()\n"
   ]
  },
  {
   "cell_type": "code",
   "execution_count": 5,
   "metadata": {},
   "outputs": [
    {
     "name": "stdout",
     "output_type": "stream",
     "text": [
      "Launching Docker...\n"
     ]
    }
   ],
   "source": [
    "#  run docker rm -f pyms-nist-server on command line if server is running\n",
    "\n",
    "chromato_obj=(chromato, time_rn, mass_range)\n",
    "hit_prob_min=15\n",
    "match_factor_min=800\n",
    "chromato, time_rn, spectra_obj = chromato_obj\n",
    "if 'search' not in globals():\n",
    "    search = pyms_nist_search.Engine(\n",
    "                        \"/media/elie/Métabolomique/NIST14/MSSEARCH/mainlib/\",\n",
    "                        pyms_nist_search.NISTMS_MAIN_LIB,\n",
    "                        \"/home/elie/Projects/Work/ahmed_repo/Python-2DGC-Alignment\",\n",
    "                        )\n",
    "logger=logging.getLogger('pyms_nist_search')\n",
    "logger.setLevel('ERROR')\n",
    "logger=logging.getLogger('pyms')\n",
    "logger.setLevel('ERROR')\n",
    "try:\n",
    "    (l1, l2, mv, iv, range_min, range_max) = spectra_obj\n",
    "except:\n",
    "    range_min, range_max=spectra_obj\n",
    "mass_values = np.linspace(range_min, range_max, range_max - range_min + 1).astype(int)\n"
   ]
  },
  {
   "cell_type": "markdown",
   "metadata": {},
   "source": [
    "## plot for manual check"
   ]
  },
  {
   "cell_type": "code",
   "execution_count": 12,
   "metadata": {},
   "outputs": [
    {
     "data": {
      "image/png": "[encoded data removed]",
      "text/plain": [
       "<Figure size 640x480 with 2 Axes>"
      ]
     },
     "metadata": {},
     "output_type": "display_data"
    }
   ],
   "source": [
    "m=87\n",
    "RT1=28.15*60\n",
    "RT2=0.008\n",
    "\n",
    "plot.visualizer((chromato_cube[m-39,:,:], time_rn), title=\"chromato\", \n",
    "                log_chromato=False, rt1 = RT1/60, rt2 =RT2, rt1_window = 0.5, rt2_window = 0.2, mod_time=1.25)"
   ]
  },
  {
   "cell_type": "code",
   "execution_count": 42,
   "metadata": {},
   "outputs": [
    {
     "name": "stdout",
     "output_type": "stream",
     "text": [
      "⚠️ La colonne 'pyms_nist_searchname' est absente des résultats.\n"
     ]
    },
    {
     "data": {
      "text/html": [
       "<div>\n",
       "<style scoped>\n",
       "    .dataframe tbody tr th:only-of-type {\n",
       "        vertical-align: middle;\n",
       "    }\n",
       "\n",
       "    .dataframe tbody tr th {\n",
       "        vertical-align: top;\n",
       "    }\n",
       "\n",
       "    .dataframe thead th {\n",
       "        text-align: right;\n",
       "    }\n",
       "</style>\n",
       "<table border=\"1\" class=\"dataframe\">\n",
       "  <thead>\n",
       "    <tr style=\"text-align: right;\">\n",
       "      <th></th>\n",
       "      <th>name</th>\n",
       "      <th>cas</th>\n",
       "      <th>match_factor</th>\n",
       "      <th>reverse_match_factor</th>\n",
       "      <th>spec_loc</th>\n",
       "      <th>hit_prob</th>\n",
       "      <th>formula</th>\n",
       "    </tr>\n",
       "  </thead>\n",
       "  <tbody>\n",
       "    <tr>\n",
       "      <th>1</th>\n",
       "      <td>Octanoic acid, methyl ester</td>\n",
       "      <td>111-11-5</td>\n",
       "      <td>815</td>\n",
       "      <td>862</td>\n",
       "      <td>53560689</td>\n",
       "      <td>59.65</td>\n",
       "      <td></td>\n",
       "    </tr>\n",
       "    <tr>\n",
       "      <th>1</th>\n",
       "      <td>Cyclopentaneundecanoic acid, methyl ester</td>\n",
       "      <td>25779-85-5</td>\n",
       "      <td>745</td>\n",
       "      <td>796</td>\n",
       "      <td>47709570</td>\n",
       "      <td>8.67</td>\n",
       "      <td></td>\n",
       "    </tr>\n",
       "    <tr>\n",
       "      <th>1</th>\n",
       "      <td>Methyl 6-methyl heptanoate</td>\n",
       "      <td>2519-37-1</td>\n",
       "      <td>727</td>\n",
       "      <td>767</td>\n",
       "      <td>64498092</td>\n",
       "      <td>4.47</td>\n",
       "      <td></td>\n",
       "    </tr>\n",
       "    <tr>\n",
       "      <th>1</th>\n",
       "      <td>Octanoic acid, 2-methyl-</td>\n",
       "      <td>3004-93-1</td>\n",
       "      <td>718</td>\n",
       "      <td>781</td>\n",
       "      <td>50475588</td>\n",
       "      <td>3.24</td>\n",
       "      <td></td>\n",
       "    </tr>\n",
       "  </tbody>\n",
       "</table>\n",
       "</div>"
      ],
      "text/plain": [
       "0                                       name         cas  match_factor  \\\n",
       "1                Octanoic acid, methyl ester    111-11-5           815   \n",
       "1  Cyclopentaneundecanoic acid, methyl ester  25779-85-5           745   \n",
       "1                 Methyl 6-methyl heptanoate   2519-37-1           727   \n",
       "1                   Octanoic acid, 2-methyl-   3004-93-1           718   \n",
       "\n",
       "0 reverse_match_factor  spec_loc hit_prob formula  \n",
       "1                  862  53560689    59.65          \n",
       "1                  796  47709570     8.67          \n",
       "1                  767  64498092     4.47          \n",
       "1                  781  50475588     3.24          "
      ]
     },
     "metadata": {},
     "output_type": "display_data"
    }
   ],
   "source": [
    "u1 = projection.chromato_to_matrix(np.array([[RT1/60, RT2]]), time_rn, 1.25, chromato.shape)\n",
    "coord = u1[0]\n",
    "int_values = mass_spec.read_spectrum_from_chromato_cube(coord, chromato_cube=chromato_cube)\n",
    "mass_spectrum = pyms.Spectrum.MassSpectrum(mass_values, int_values)\n",
    "res = search.full_search_with_ref_data(mass_spectrum, n_hits=20)\n",
    "\n",
    "# Initialisation d'un DataFrame vide\n",
    "match = pd.DataFrame()\n",
    "\n",
    "# Ajout des résultats\n",
    "for entry in res:\n",
    "    if entry and entry[0]:\n",
    "        df = pd.DataFrame.from_dict(entry[0]).T\n",
    "        if df.shape[0] > 1:\n",
    "            row = df.iloc[[1]]\n",
    "            row.columns = df.iloc[0]\n",
    "            match = pd.concat([match, row])\n",
    "\n",
    "# Si aucun match, on s'arrête là\n",
    "if match.empty:\n",
    "    print(\"❌ Aucun match trouvé.\")\n",
    "else:\n",
    "    match['match_factor'] = pd.to_numeric(match['match_factor'], errors='coerce')\n",
    "    match = match.dropna(subset=['match_factor'])\n",
    "\n",
    "    match = match[(match['match_factor'] > match['match_factor'].max() - 100) & \n",
    "                  (match['match_factor'] > 650)]\n",
    "\n",
    "    match['formula'] = \"\"\n",
    "\n",
    "    if 'pyms_nist_searchname' in match.columns:\n",
    "        for i in range(len(match)):\n",
    "            formula = get_molecular_formulaNIST(match['pyms_nist_searchname'].iloc[i])\n",
    "            match.at[i, 'formula'] = formula\n",
    "    else:\n",
    "        print(\"⚠️ La colonne 'pyms_nist_searchname' est absente des résultats.\")\n",
    "\n",
    "    display(match)"
   ]
  },
  {
   "cell_type": "markdown",
   "metadata": {},
   "source": [
    "below useless for normal runnin"
   ]
  },
  {
   "cell_type": "code",
   "execution_count": 30,
   "metadata": {},
   "outputs": [
    {
     "name": "stdout",
     "output_type": "stream",
     "text": [
      "True\n"
     ]
    }
   ],
   "source": [
    "import os\n",
    "print(os.path.exists(\"/home/elie/Projects/Work/ahmed_repo/ref_peak_pdf\"))\n"
   ]
  },
  {
   "cell_type": "code",
   "execution_count": null,
   "metadata": {},
   "outputs": [
    {
     "data": {
      "text/plain": [
       "<module 'plot' from '/home/elie/Projects/Work/ahmed_repo/Python-2DGC-Alignment/src/plot.py'>"
      ]
     },
     "execution_count": 47,
     "metadata": {},
     "output_type": "execute_result"
    }
   ],
   "source": [
    "import importlib"
   ]
  },
  {
   "cell_type": "markdown",
   "metadata": {},
   "source": [
    "Below automated plotting to PDF"
   ]
  },
  {
   "cell_type": "code",
   "execution_count": 13,
   "metadata": {},
   "outputs": [
    {
     "name": "stdout",
     "output_type": "stream",
     "text": [
      "📌 Plotting: Alanine-d4 | Mass: 120 | RT1: 12.37 min | RT2: 0.266 s\n",
      "📌 Plotting: Valine-d8 | Mass: 152 | RT1: 15.46 min | RT2: 0.266 s\n",
      "📌 Plotting: Nicotinic acid-d4 | Mass: 184 | RT1: 17.54 min | RT2: 0.907 s\n",
      "📌 Plotting: Salycilic acid-d4 | Mass: 271 | RT1: 23.34 min | RT2: 0.341 s\n",
      "📌 Plotting: Glutamic acid-d5 | Mass: 251 | RT1: 26.08 min | RT2: 0.666 s\n",
      "📌 Plotting: Glucose-6C13 | Mass: 207 | RT1: 32.27 min | RT2: 0.116 s\n",
      "📌 Plotting: Cholesterol-d7 | Mass: 375 | RT1: 51.59 min | RT2: 0.691 s\n",
      "📌 Plotting: Serotonine-d4 | Mass: 176 | RT1: 42.03 min | RT2: 0.499 s\n",
      "📌 Plotting: Octanoic acid, methyl esther C8 | Mass: 87 | RT1: 13.11 min | RT2: 0.250 s\n",
      "📌 Plotting: Nonanoic acid, methyl esther C9 | Mass: 87 | RT1: 15.59 min | RT2: 0.017 s\n",
      "📌 Plotting: Decanoic acid, methyl ester C10 | Mass: 87 | RT1: 18.41 min | RT2: 0.025 s\n",
      "📌 Plotting: Dodecanoic acid, methyl ester C12 | Mass: 87 | RT1: 23.43 min | RT2: 0.008 s\n",
      "📌 Plotting: Methyl tetradecanoate C14 | Mass: 87 | RT1: 28.15 min | RT2: 0.008 s\n",
      "📌 Plotting: Hexadecanoic acid, methyl ester C16 | Mass: 87 | RT1: 32.22 min | RT2: 0.042 s\n",
      "📌 Plotting: Methyl stearate C18 | Mass: 87 | RT1: 36.08 min | RT2: 0.083 s\n",
      "📌 Plotting: Eicosanoic acid, methyl ester C20 | Mass: 87 | RT1: 39.35 min | RT2: 0.208 s\n",
      "📌 Plotting: Docosanoic acid, methyl ester C22 | Mass: 87 | RT1: 42.46 min | RT2: 0.399 s\n",
      "📌 Plotting: Tetracosanoic acid, methyl ester C24 | Mass: 87 | RT1: 45.43 min | RT2: 0.749 s\n",
      "✅ PDF saved to:\n",
      "/home/elie/Projects/Work/ahmed_repo/ref_peak_pdf/G0-1-041222.cdf_ref_peaks.pdf\n"
     ]
    }
   ],
   "source": [
    "import pandas as pd\n",
    "import matplotlib.pyplot as plt\n",
    "from matplotlib.backends.backend_pdf import PdfPages\n",
    "import os\n",
    "\n",
    "# --- CONFIGURATION ---\n",
    "\n",
    "output_dir = \"/home/elie/Projects/Work/ahmed_repo/ref_peak_pdf\"\n",
    "os.makedirs(output_dir, exist_ok=True)\n",
    "output_path = f\"{output_dir}/{sample_name}_ref_peaks.pdf\"\n",
    "\n",
    "# Load full reference peak file (Etalons + FAMEs)\n",
    "ref_peaks = pd.read_csv(\"/home/elie/Projects/Work/ahmed_repo/peak_coordinates.csv\")\n",
    "\n",
    "# Create PDF\n",
    "with PdfPages(output_path) as pdf:\n",
    "    for _, row in ref_peaks.iterrows():\n",
    "        m = int(row['mass'])\n",
    "        RT1 = float(row['RT1']) * 60  # convert to seconds\n",
    "        RT2 = float(row['RT2'])\n",
    "        name = row['Mol']\n",
    "\n",
    "        m_index = m - 39  # adjust mass index\n",
    "        title = f\"{name} | Mass: {m} | RT1: {RT1/60:.2f} min | RT2: {RT2:.3f} s\"\n",
    "\n",
    "        print(f\"📌 Plotting: {title}\")\n",
    "\n",
    "        # Plot and save to PDF\n",
    "        plot.visualizer(\n",
    "            (chromato_cube[m_index, :, :], time_rn),\n",
    "            title=title,\n",
    "            log_chromato=False,\n",
    "            rt1=RT1 / 60,\n",
    "            rt2=RT2,\n",
    "            rt1_window=0.5,\n",
    "            rt2_window=0.2,\n",
    "            mod_time=1.25,\n",
    "            show=False  # Suppress display in notebook\n",
    "        )\n",
    "\n",
    "        pdf.savefig(plt.gcf())\n",
    "        plt.close(plt.gcf())\n",
    "\n",
    "print(f\"✅ PDF saved to:\\n{output_path}\")\n"
   ]
  },
  {
   "cell_type": "markdown",
   "metadata": {},
   "source": [
    "## Automatic annotation to CSV"
   ]
  },
  {
   "cell_type": "markdown",
   "metadata": {},
   "source": [
    "LOCAL MAXIMA NIST SEARCH"
   ]
  },
  {
   "cell_type": "code",
   "execution_count": 14,
   "metadata": {},
   "outputs": [
    {
     "name": "stdout",
     "output_type": "stream",
     "text": [
      "🔍 Searching: Octanoic acid, methyl esther C8 | RT1: 13.11 min | RT2: 0.250s | Mass: 87\n",
      "🔍 Searching: Nonanoic acid, methyl esther C9 | RT1: 15.59 min | RT2: 0.017s | Mass: 87\n",
      "🔍 Searching: Decanoic acid, methyl ester C10 | RT1: 18.41 min | RT2: 0.025s | Mass: 87\n",
      "🔍 Searching: Dodecanoic acid, methyl ester C12 | RT1: 23.43 min | RT2: 0.008s | Mass: 87\n",
      "🔍 Searching: Methyl tetradecanoate C14 | RT1: 28.15 min | RT2: 0.008s | Mass: 87\n",
      "🔍 Searching: Hexadecanoic acid, methyl ester C16 | RT1: 32.22 min | RT2: 0.042s | Mass: 87\n",
      "🔍 Searching: Methyl stearate C18 | RT1: 36.08 min | RT2: 0.083s | Mass: 87\n",
      "🔍 Searching: Eicosanoic acid, methyl ester C20 | RT1: 39.35 min | RT2: 0.208s | Mass: 87\n",
      "🔍 Searching: Docosanoic acid, methyl ester C22 | RT1: 42.46 min | RT2: 0.399s | Mass: 87\n",
      "🔍 Searching: Tetracosanoic acid, methyl ester C24 | RT1: 45.43 min | RT2: 0.749s | Mass: 87\n",
      "✅ CSV saved: /home/elie/Projects/Work/ahmed_repo/nist_results/G0-1-041222_fame_nist_corrected.csv\n"
     ]
    }
   ],
   "source": [
    "import pandas as pd\n",
    "import numpy as np\n",
    "import os\n",
    "import projection\n",
    "import mass_spec\n",
    "import pyms\n",
    "import requests\n",
    "from bs4 import BeautifulSoup\n",
    "from skimage.feature import peak_local_max\n",
    "\n",
    "# --- CONFIGURATION ---\n",
    "\n",
    "output_dir = \"/home/elie/Projects/Work/ahmed_repo/nist_results\"\n",
    "output_file = f\"{output_dir}/{sample_name}_fame_nist.csv\"\n",
    "os.makedirs(output_dir, exist_ok=True)\n",
    "\n",
    "# Load reference peak CSV and keep only FAMEs (skip first 8 rows)\n",
    "ref_peaks = pd.read_csv(\"/home/elie/Projects/Work/ahmed_repo/peak_coordinates.csv\")\n",
    "fame_peaks = ref_peaks.iloc[8:].reset_index(drop=True)\n",
    "\n",
    "# Function to get molecular formula from NIST WebBook\n",
    "def get_molecular_formulaNIST(compound_name):\n",
    "    search_url = f'https://webbook.nist.gov/cgi/cbook.cgi?Name={compound_name}'\n",
    "    response = requests.get(search_url)\n",
    "    soup = BeautifulSoup(response.text, 'html.parser')\n",
    "    text = soup.get_text()\n",
    "    res = re.search(r'Formula: (.*?)\\nMolecular weight', text)\n",
    "    return res.group(1) if res else None\n",
    "\n",
    "\n",
    "\n",
    "results = []\n",
    "for _, row in fame_peaks.iterrows():\n",
    "    name = row['Mol']\n",
    "    RT1 = float(row['RT1']) * 60  # seconds\n",
    "    RT2 = float(row['RT2'])\n",
    "    mass = int(row['mass'])\n",
    "\n",
    "    print(f\"🔍 Searching: {name} | RT1: {RT1/60:.2f} min | RT2: {RT2:.3f}s | Mass: {mass}\")\n",
    "\n",
    "    try:\n",
    "        u1 = projection.chromato_to_matrix(np.array([[RT1 / 60, RT2]]), time_rn, 1.25, chromato.shape)\n",
    "        coord_theoretical = u1[0]\n",
    "\n",
    "        # --- Local maxima search around the theoretical coordinate ---\n",
    "        rt1_window = 0.5  # minutes\n",
    "        rt2_window = 0.2  # seconds\n",
    "\n",
    "        # Define window in matrix coords\n",
    "        window = projection.chromato_to_matrix(\n",
    "            np.array([\n",
    "                [RT1/60 - rt1_window, RT2 - rt2_window],\n",
    "                [RT1/60 + rt1_window, RT2 + rt2_window]\n",
    "            ]),\n",
    "            time_rn,\n",
    "            1.25,\n",
    "            chromato.shape\n",
    "        )\n",
    "\n",
    "        x_min, y_min = np.maximum(window[0], 0)\n",
    "        x_max, y_max = np.minimum(window[1], np.array(chromato.shape))\n",
    "\n",
    "        # Extract patch and search for local maxima\n",
    "        submatrix = chromato_cube[mass - 39, int(x_min):int(x_max), int(y_min):int(y_max)]\n",
    "        local_max_coords = peak_local_max(submatrix, num_peaks=1)\n",
    "\n",
    "        if len(local_max_coords) > 0:\n",
    "            peak_x, peak_y = local_max_coords[0]\n",
    "            global_x = int(x_min) + peak_x\n",
    "            global_y = int(y_min) + peak_y\n",
    "            coord = [global_x, global_y]\n",
    "\n",
    "            # Convert back to RT coordinates\n",
    "            rt_corrected = projection.matrix_to_chromato(np.array([coord]), time_rn, 1.25, chromato.shape)[0]\n",
    "            RT1_corr = rt_corrected[0] * 60  # to seconds\n",
    "            RT2_corr = rt_corrected[1]\n",
    "        else:\n",
    "            print(f\"⚠️ No local max found near {name}, using theoretical RT\")\n",
    "            coord = coord_theoretical\n",
    "            RT1_corr = RT1\n",
    "            RT2_corr = RT2\n",
    "\n",
    "        # Extract spectrum and run NIST search\n",
    "        int_values = mass_spec.read_spectrum_from_chromato_cube(coord, chromato_cube=chromato_cube)\n",
    "        mass_spectrum = pyms.Spectrum.MassSpectrum(mass_values, int_values)\n",
    "        res = search.full_search_with_ref_data(mass_spectrum, n_hits=20)\n",
    "\n",
    "        match = pd.DataFrame()\n",
    "        for entry in res:\n",
    "            if entry and entry[0]:\n",
    "                df = pd.DataFrame.from_dict(entry[0]).T\n",
    "                if df.shape[0] > 1:\n",
    "                    row_df = df.iloc[[1]].copy()\n",
    "                    row_df.columns = df.iloc[0]\n",
    "                    match = pd.concat([match, row_df], ignore_index=True)\n",
    "\n",
    "        if not match.empty:\n",
    "            match['Mol'] = name\n",
    "            match['mass'] = mass\n",
    "            match['RT1_theoretical'] = RT1 / 60\n",
    "            match['RT2_theoretical'] = RT2\n",
    "            match['RT1_corrected'] = RT1_corr / 60\n",
    "            match['RT2_corrected'] = RT2_corr\n",
    "\n",
    "            # Desired order for clarity and capped at 6 results\n",
    "            match = match.sort_values(\"match_factor\", ascending=False).head(2)\n",
    "\n",
    "            \n",
    "            column_order = [\n",
    "                'Mol', 'mass', 'RT1_theoretical', 'RT2_theoretical', 'RT1_corrected', 'RT2_corrected'\n",
    "            ] + [col for col in match.columns if col not in ['Mol', 'mass', 'RT1_theoretical', 'RT2_theoretical', 'RT1_corrected', 'RT2_corrected']]\n",
    "\n",
    "            match = match[column_order]\n",
    "\n",
    "            results.append(match)\n",
    "\n",
    "    except Exception as e:\n",
    "        print(f\"⚠️ Error processing {name}: {e}\")\n",
    "\n",
    "# Combine all matches and export\n",
    "final_nist_df = pd.concat(results, ignore_index=True)\n",
    "csv_out = f\"/home/elie/Projects/Work/ahmed_repo/nist_results/{sample_name.replace('.cdf', '')}_fame_nist_corrected.csv\"\n",
    "final_nist_df.to_csv(csv_out, index=False)\n",
    "print(f\"✅ CSV saved: {csv_out}\")\n"
   ]
  },
  {
   "cell_type": "code",
   "execution_count": 15,
   "metadata": {},
   "outputs": [
    {
     "name": "stdout",
     "output_type": "stream",
     "text": [
      "🔍 Alanine-d4: RT1 = 742.20s, RT2 = 0.266s, Mass = 120\n",
      "🔍 Valine-d8: RT1 = 927.60s, RT2 = 0.266s, Mass = 152\n",
      "🔍 Nicotinic acid-d4: RT1 = 1052.40s, RT2 = 0.907s, Mass = 184\n",
      "🔍 Salycilic acid-d4: RT1 = 1400.40s, RT2 = 0.341s, Mass = 271\n",
      "🔍 Glutamic acid-d5: RT1 = 1564.80s, RT2 = 0.666s, Mass = 251\n",
      "🔍 Glucose-6C13: RT1 = 1936.20s, RT2 = 0.116s, Mass = 207\n",
      "🔍 Cholesterol-d7: RT1 = 3095.40s, RT2 = 0.691s, Mass = 375\n",
      "🔍 Serotonine-d4: RT1 = 2521.80s, RT2 = 0.499s, Mass = 176\n"
     ]
    }
   ],
   "source": [
    "import pandas as pd\n",
    "import os\n",
    "from skimage.feature import peak_local_max\n",
    "\n",
    "\n",
    "peak_path = \"/home/elie/Projects/Work/ahmed_repo/peak_coordinates.csv\"\n",
    "ref_peaks = pd.read_csv(peak_path)\n",
    "\n",
    "ei_peaks = ref_peaks.iloc[:8]\n",
    "\n",
    "results= []\n",
    "\n",
    "for _, row in ei_peaks.iterrows():\n",
    "    name = row['Mol']\n",
    "    RT1 = float(row['RT1']) * 60\n",
    "    RT2 = float(row['RT2'])\n",
    "    mass = int(row['mass'])\n",
    "    print(f\"🔍 {name}: RT1 = {RT1:.2f}s, RT2 = {RT2:.3f}s, Mass = {mass}\")\n",
    "\n",
    "    rt1_window = 1.0\n",
    "    rt2_window = 0.4\n",
    "\n",
    "    window = projection.chromato_to_matrix(\n",
    "        np.array([\n",
    "            [RT1/ 60 - rt1_window, RT2 - rt2_window],\n",
    "            [RT1/60 + rt1_window, RT2 + rt2_window]\n",
    "        ]),\n",
    "        time_rn,\n",
    "        1.25,\n",
    "        chromato.shape\n",
    "    )\n",
    "    #this is after the function call\n",
    "    x_min, y_min = np.maximum(window[0], 0)\n",
    "    x_max, y_max = np.minimum(window[1], np.array(chromato.shape))\n",
    "\n",
    "    mass_index = mass - 39\n",
    "    submatrix = chromato_cube[mass_index,int(x_min):int(x_max), int(y_min):int(y_max)]\n",
    "\n",
    "    local_max_coords = peak_local_max(submatrix, num_peaks=1)\n",
    "\n",
    "    if local_max_coords.shape[0] == 0:\n",
    "        print(f\"⚠️ No local maximum found for {name}, skipping.\")\n",
    "        continue\n",
    "\n",
    "    # Extract first (and only) peak\n",
    "    local_x, local_y = local_max_coords[0]\n",
    "\n",
    "    # Adjust to global matrix coordinates\n",
    "    global_x = int(x_min) + local_x\n",
    "    global_y = int(y_min) + local_y\n",
    "\n",
    "    # Convert matrix indices back to (RT1, RT2)\n",
    "    corrected_coords = projection.matrix_to_chromato(\n",
    "        np.array([[global_x, global_y]]),\n",
    "        time_rn,\n",
    "        1.25,\n",
    "        chromato.shape\n",
    "    )\n",
    "    RT1_corr, RT2_corr = corrected_coords[0]\n",
    "\n",
    "    intensity_vector = mass_spec.read_spectrum_from_chromato_cube(\n",
    "        (global_x, global_y),\n",
    "        chromato_cube=chromato_cube\n",
    "    )\n",
    "    \n",
    "    RT1_theoretical_min = RT1 / 60\n",
    "\n",
    "    result = {\n",
    "        \"Mol\": name,\n",
    "        \"mass\": mass,\n",
    "        \"RT1_theoretical\": RT1_theoretical_min,\n",
    "        \"RT2_theoretical\": RT2,\n",
    "        \"RT1_corrected\": RT1_corr,\n",
    "        \"RT2_corrected\": RT2_corr,\n",
    "        \"spectrum\": intensity_vector  # store vector here\n",
    "    }\n",
    "    results.append(result)\n",
    "\n",
    "# Convert results to DataFrame\n",
    "df = pd.DataFrame(results)\n",
    "df[\"spectrum\"] = df[\"spectrum\"].apply(lambda x: x.tolist())\n",
    "\n",
    "# Define output directory for EI reference CSVs\n",
    "ei_output_dir = \"/home/elie/Projects/Work/ahmed_repo/EIs_ref_csv\"\n",
    "os.makedirs(ei_output_dir, exist_ok=True)\n",
    "\n",
    "# Save to CSV using the sample name\n",
    "df.to_csv(os.path.join(ei_output_dir, f\"{sample_name}_etalon_spectra.csv\"), index=False)\n",
    "\n",
    "    \n",
    "\n",
    "\n"
   ]
  }
 ],
 "metadata": {
  "kernelspec": {
   "display_name": "python-2dgc-env",
   "language": "python",
   "name": "python3"
  },
  "language_info": {
   "codemirror_mode": {
    "name": "ipython",
    "version": 3
   },
   "file_extension": ".py",
   "mimetype": "text/x-python",
   "name": "python",
   "nbconvert_exporter": "python",
   "pygments_lexer": "ipython3",
   "version": "3.10.16"
  }
 },
 "nbformat": 4,
 "nbformat_minor": 2
}
